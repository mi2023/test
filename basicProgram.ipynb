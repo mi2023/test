{
 "cells": [
  {
   "cell_type": "markdown",
   "metadata": {},
   "source": [
    "# A program which receives two arguments and can perform basic arithmetic operations of addition, subtraction, multiplication and division using functions."
   ]
  },
  {
   "cell_type": "code",
   "execution_count": 3,
   "metadata": {},
   "outputs": [
    {
     "name": "stdout",
     "output_type": "stream",
     "text": [
      "Please enter the first number: 1\n",
      "Please enter the second number: 2\n",
      "What do you wanna do with these two numbers? Please enter either 'addition', 'subtraction', 'multiplication' and 'division'.addition\n",
      "3.0\n"
     ]
    }
   ],
   "source": [
    "def main():\n",
    "    x = float(input(\"Please enter the first number: \"))\n",
    "    y = float(input(\"Please enter the second number: \"))\n",
    "    k = input(\"What do you wanna do with these two numbers? Please enter either\\\n",
    " 'addition', 'subtraction', 'multiplication' and 'division'.\")\n",
    "    \n",
    "    def calculator(x, y):\n",
    "        result = 0\n",
    "        if k == \"addition\":\n",
    "            result = x + y\n",
    "        elif k == \"subtraction\":\n",
    "            result = x - y\n",
    "        elif k == \"multiplication\":\n",
    "            result = x * y\n",
    "        elif k == \"division\":\n",
    "            result = x / y\n",
    "        else: \n",
    "            print('Error! Please enter only \"addition\", \"subtraction\", \"multiplication\", \"division\"!')\n",
    "        print(result)\n",
    "    \n",
    "    calculator(x, y)\n",
    "\n",
    "main()\n",
    "\n"
   ]
  },
  {
   "cell_type": "code",
   "execution_count": null,
   "metadata": {},
   "outputs": [],
   "source": []
  }
 ],
 "metadata": {
  "kernelspec": {
   "display_name": "Python 3",
   "language": "python",
   "name": "python3"
  },
  "language_info": {
   "codemirror_mode": {
    "name": "ipython",
    "version": 3
   },
   "file_extension": ".py",
   "mimetype": "text/x-python",
   "name": "python",
   "nbconvert_exporter": "python",
   "pygments_lexer": "ipython3",
   "version": "3.7.3"
  }
 },
 "nbformat": 4,
 "nbformat_minor": 2
}
